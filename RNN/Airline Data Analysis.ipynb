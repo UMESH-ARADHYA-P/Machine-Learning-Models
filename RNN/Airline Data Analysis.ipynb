{
 "cells": [
  {
   "cell_type": "markdown",
   "id": "9fbb8607",
   "metadata": {},
   "source": [
    "##Lets write the code!\n",
    "\n",
    "###Airline Data Analysis\n",
    "\n",
    "We have a dataset which has monthly analysis of number of people who travelled internationally.\n",
    "\n",
    "We need to predict the number of people who might travel in the upcoming month. Keeping in mind the seasonal trends, we shall keep our window of 𝑋\n",
    " to be of 12 months.\n",
    "\n",
    "We need to keep in mind that 𝑌𝑡\n",
    " will also become part of 𝑋𝑡+1\n",
    " for calculation of 𝑌𝑡+1\n",
    "###Preparing the Data\n",
    "\n",
    "We will prepare the testing and training data like we dicussed in the analysis."
   ]
  },
  {
   "cell_type": "code",
   "execution_count": 1,
   "id": "74db8312",
   "metadata": {},
   "outputs": [],
   "source": [
    "from pandas import read_csv\n",
    "import numpy as np"
   ]
  },
  {
   "cell_type": "code",
   "execution_count": 2,
   "id": "ff6f00ac",
   "metadata": {},
   "outputs": [
    {
     "data": {
      "text/html": [
       "<div>\n",
       "<style scoped>\n",
       "    .dataframe tbody tr th:only-of-type {\n",
       "        vertical-align: middle;\n",
       "    }\n",
       "\n",
       "    .dataframe tbody tr th {\n",
       "        vertical-align: top;\n",
       "    }\n",
       "\n",
       "    .dataframe thead th {\n",
       "        text-align: right;\n",
       "    }\n",
       "</style>\n",
       "<table border=\"1\" class=\"dataframe\">\n",
       "  <thead>\n",
       "    <tr style=\"text-align: right;\">\n",
       "      <th></th>\n",
       "      <th>International airline passengers: monthly totals in thousands. Jan 49 ? Dec 60</th>\n",
       "    </tr>\n",
       "  </thead>\n",
       "  <tbody>\n",
       "    <tr>\n",
       "      <th>count</th>\n",
       "      <td>144.000000</td>\n",
       "    </tr>\n",
       "    <tr>\n",
       "      <th>mean</th>\n",
       "      <td>280.298611</td>\n",
       "    </tr>\n",
       "    <tr>\n",
       "      <th>std</th>\n",
       "      <td>119.966317</td>\n",
       "    </tr>\n",
       "    <tr>\n",
       "      <th>min</th>\n",
       "      <td>104.000000</td>\n",
       "    </tr>\n",
       "    <tr>\n",
       "      <th>25%</th>\n",
       "      <td>180.000000</td>\n",
       "    </tr>\n",
       "    <tr>\n",
       "      <th>50%</th>\n",
       "      <td>265.500000</td>\n",
       "    </tr>\n",
       "    <tr>\n",
       "      <th>75%</th>\n",
       "      <td>360.500000</td>\n",
       "    </tr>\n",
       "    <tr>\n",
       "      <th>max</th>\n",
       "      <td>622.000000</td>\n",
       "    </tr>\n",
       "  </tbody>\n",
       "</table>\n",
       "</div>"
      ],
      "text/plain": [
       "       International airline passengers: monthly totals in thousands. Jan 49 ? Dec 60\n",
       "count                                         144.000000                             \n",
       "mean                                          280.298611                             \n",
       "std                                           119.966317                             \n",
       "min                                           104.000000                             \n",
       "25%                                           180.000000                             \n",
       "50%                                           265.500000                             \n",
       "75%                                           360.500000                             \n",
       "max                                           622.000000                             "
      ]
     },
     "execution_count": 2,
     "metadata": {},
     "output_type": "execute_result"
    }
   ],
   "source": [
    "df = read_csv('https://files.codingninjas.in/international-airline-passengers-7703.csv', usecols=[1])\n",
    "df.describe()"
   ]
  },
  {
   "cell_type": "code",
   "execution_count": 5,
   "id": "f15d7829",
   "metadata": {},
   "outputs": [
    {
     "data": {
      "text/html": [
       "<div>\n",
       "<style scoped>\n",
       "    .dataframe tbody tr th:only-of-type {\n",
       "        vertical-align: middle;\n",
       "    }\n",
       "\n",
       "    .dataframe tbody tr th {\n",
       "        vertical-align: top;\n",
       "    }\n",
       "\n",
       "    .dataframe thead th {\n",
       "        text-align: right;\n",
       "    }\n",
       "</style>\n",
       "<table border=\"1\" class=\"dataframe\">\n",
       "  <thead>\n",
       "    <tr style=\"text-align: right;\">\n",
       "      <th></th>\n",
       "      <th>International airline passengers: monthly totals in thousands. Jan 49 ? Dec 60</th>\n",
       "    </tr>\n",
       "  </thead>\n",
       "  <tbody>\n",
       "    <tr>\n",
       "      <th>0</th>\n",
       "      <td>112</td>\n",
       "    </tr>\n",
       "    <tr>\n",
       "      <th>1</th>\n",
       "      <td>118</td>\n",
       "    </tr>\n",
       "    <tr>\n",
       "      <th>2</th>\n",
       "      <td>132</td>\n",
       "    </tr>\n",
       "    <tr>\n",
       "      <th>3</th>\n",
       "      <td>129</td>\n",
       "    </tr>\n",
       "    <tr>\n",
       "      <th>4</th>\n",
       "      <td>121</td>\n",
       "    </tr>\n",
       "    <tr>\n",
       "      <th>5</th>\n",
       "      <td>135</td>\n",
       "    </tr>\n",
       "    <tr>\n",
       "      <th>6</th>\n",
       "      <td>148</td>\n",
       "    </tr>\n",
       "    <tr>\n",
       "      <th>7</th>\n",
       "      <td>148</td>\n",
       "    </tr>\n",
       "    <tr>\n",
       "      <th>8</th>\n",
       "      <td>136</td>\n",
       "    </tr>\n",
       "    <tr>\n",
       "      <th>9</th>\n",
       "      <td>119</td>\n",
       "    </tr>\n",
       "  </tbody>\n",
       "</table>\n",
       "</div>"
      ],
      "text/plain": [
       "   International airline passengers: monthly totals in thousands. Jan 49 ? Dec 60\n",
       "0                                                112                             \n",
       "1                                                118                             \n",
       "2                                                132                             \n",
       "3                                                129                             \n",
       "4                                                121                             \n",
       "5                                                135                             \n",
       "6                                                148                             \n",
       "7                                                148                             \n",
       "8                                                136                             \n",
       "9                                                119                             "
      ]
     },
     "execution_count": 5,
     "metadata": {},
     "output_type": "execute_result"
    }
   ],
   "source": [
    "df.head(10)\n"
   ]
  },
  {
   "cell_type": "code",
   "execution_count": 10,
   "id": "69651a4e",
   "metadata": {},
   "outputs": [
    {
     "name": "stdout",
     "output_type": "stream",
     "text": [
      "[[112.]\n",
      " [118.]\n",
      " [132.]\n",
      " [129.]\n",
      " [121.]\n",
      " [135.]\n",
      " [148.]\n",
      " [148.]\n",
      " [136.]\n",
      " [119.]]\n"
     ]
    },
    {
     "data": {
      "text/plain": [
       "(144, 1)"
      ]
     },
     "execution_count": 10,
     "metadata": {},
     "output_type": "execute_result"
    }
   ],
   "source": [
    "values = df.values.astype('float32')\n",
    "print(values[:10])\n",
    "values.shape\n"
   ]
  },
  {
   "cell_type": "code",
   "execution_count": 11,
   "id": "b488c1de",
   "metadata": {},
   "outputs": [],
   "source": [
    "train_size = int((values.shape[0])*0.67)\n",
    "test_size  = values.shape[0] - train_size\n",
    "train = values[:train_size]\n",
    "test = values[train_size :]"
   ]
  },
  {
   "cell_type": "code",
   "execution_count": 34,
   "id": "6ecb9e0f",
   "metadata": {},
   "outputs": [
    {
     "data": {
      "text/plain": [
       "((48, 1), (96, 1))"
      ]
     },
     "execution_count": 34,
     "metadata": {},
     "output_type": "execute_result"
    }
   ],
   "source": [
    "test.shape ,train.shape"
   ]
  },
  {
   "cell_type": "code",
   "execution_count": 13,
   "id": "eb878f95",
   "metadata": {},
   "outputs": [
    {
     "data": {
      "text/plain": [
       "array([[112.],\n",
       "       [118.],\n",
       "       [132.],\n",
       "       [129.],\n",
       "       [121.],\n",
       "       [135.],\n",
       "       [148.],\n",
       "       [148.],\n",
       "       [136.],\n",
       "       [119.]], dtype=float32)"
      ]
     },
     "execution_count": 13,
     "metadata": {},
     "output_type": "execute_result"
    }
   ],
   "source": [
    "train[:10]"
   ]
  },
  {
   "cell_type": "code",
   "execution_count": 14,
   "id": "b86707a0",
   "metadata": {},
   "outputs": [],
   "source": [
    "from sklearn.preprocessing import MinMaxScaler\n",
    "scaler = MinMaxScaler(feature_range =(0,1))\n",
    "train = scaler.fit_transform(train)\n",
    "test = scaler.transform(test)"
   ]
  },
  {
   "cell_type": "markdown",
   "id": "6fccb4ea",
   "metadata": {},
   "source": [
    "The above code snippet you provided is using the MinMaxScaler from the sklearn.preprocessing module in Python. This scaler is being used to normalize the train and test data using the Min-Max scaling technique, which scales the data to a specified range (in this case, between 0 and 1).\n",
    "\n",
    "Here's how the code works:\n",
    "\n",
    "MinMaxScaler is imported from sklearn.preprocessing.\n",
    "\n",
    "An instance of MinMaxScaler is created with the specified feature range of (0,1), which indicates that the data will be scaled to the range of 0 to 1.\n",
    "\n",
    "train data is then transformed using the fit_transform() method of MinMaxScaler, which calculates the scaling parameters (minimum and maximum values) based on the train data and scales it accordingly.\n",
    "\n",
    "test data is transformed using the transform() method of MinMaxScaler, which applies the same scaling parameters calculated from the train data to scale the test data. This ensures that the test data is scaled consistently with the train data.\n",
    "\n",
    "After this code snippet is executed, the train and test data will be normalized to the range of 0 to 1, which can be beneficial for certain machine learning algorithms that are sensitive to the scale of input features."
   ]
  },
  {
   "cell_type": "code",
   "execution_count": 16,
   "id": "d904d788",
   "metadata": {},
   "outputs": [
    {
     "data": {
      "text/plain": [
       "array([[0.02588999],\n",
       "       [0.04530746],\n",
       "       [0.09061491],\n",
       "       [0.08090615],\n",
       "       [0.05501619],\n",
       "       [0.10032365],\n",
       "       [0.14239484],\n",
       "       [0.14239484],\n",
       "       [0.10355988],\n",
       "       [0.04854369]], dtype=float32)"
      ]
     },
     "execution_count": 16,
     "metadata": {},
     "output_type": "execute_result"
    }
   ],
   "source": [
    "train[:10] # we can notice the change in the value of the training data"
   ]
  },
  {
   "cell_type": "code",
   "execution_count": 30,
   "id": "83e4eb69",
   "metadata": {},
   "outputs": [],
   "source": [
    "def create_dataset(data,k):\n",
    "    dataX ,dataY = [],[]\n",
    "    for i in range(data.shape[0] -k): # i have data.shape - k data points \n",
    "        x = data[i:i+k,0] # take from i to i+k and predict next one \n",
    "        # data[i:i+k,0] means from i to i+k rows and 0 th column \n",
    "        y = data[i+k,0] # when i to i+k is taken to predict i+k th term do y will be only one value\n",
    "        # so the shape of y is just 1 row that is i+k th row there select 0 th column\n",
    "        dataX.append(x)\n",
    "        dataY.append(y)\n",
    "    return np.array(dataX),np.array(dataY)\n",
    "    "
   ]
  },
  {
   "cell_type": "code",
   "execution_count": 40,
   "id": "2dc37050",
   "metadata": {},
   "outputs": [],
   "source": [
    "look_back = 12\n",
    "trainX ,trainY = create_dataset(train,look_back)\n",
    "testX, testY = create_dataset(test,look_back)"
   ]
  },
  {
   "cell_type": "code",
   "execution_count": 41,
   "id": "f927cc19",
   "metadata": {},
   "outputs": [
    {
     "name": "stdout",
     "output_type": "stream",
     "text": [
      "(84, 12) (84,) (36, 12) (36,)\n"
     ]
    }
   ],
   "source": [
    "print(trainX.shape,trainY.shape,testX.shape,testY.shape) #before reshaping"
   ]
  },
  {
   "cell_type": "code",
   "execution_count": 42,
   "id": "b4893ce5",
   "metadata": {},
   "outputs": [
    {
     "name": "stdout",
     "output_type": "stream",
     "text": [
      "(84, 12, 1) (36, 12, 1)\n"
     ]
    }
   ],
   "source": [
    "trainX = np.reshape(trainX,(trainX.shape[0],trainX.shape[1],1)) \n",
    "# reshape happens like the below\n",
    "# [number of data points ,length of sequence , number of featurs in one entry of sequence ]\n",
    "# so np.reshape(trainX,(trainX.shape[0],trainX.shape[1],1)) \n",
    "# here\n",
    "# number of data points = trainX.shape[0]\n",
    "# length of sequence = trainX.shape[1]\n",
    "# number of featurs in one entry of sequence = 1 here we have only one feature in each element of sequence\n",
    "\n",
    "testX = np.reshape(testX,(testX.shape[0],testX.shape[1],1))\n",
    "print(trainX.shape,testX.shape)"
   ]
  },
  {
   "cell_type": "code",
   "execution_count": null,
   "id": "80b09507",
   "metadata": {},
   "outputs": [],
   "source": []
  },
  {
   "cell_type": "code",
   "execution_count": 43,
   "id": "337c69cc",
   "metadata": {},
   "outputs": [],
   "source": [
    "from keras.models import Sequential\n",
    "from keras.layers import SimpleRNN, Dense"
   ]
  },
  {
   "cell_type": "code",
   "execution_count": 44,
   "id": "01df019c",
   "metadata": {},
   "outputs": [
    {
     "name": "stdout",
     "output_type": "stream",
     "text": [
      "Epoch 1/10\n",
      "84/84 [==============================] - 5s 4ms/step - loss: 0.0692\n",
      "Epoch 2/10\n",
      "84/84 [==============================] - 0s 4ms/step - loss: 0.0159\n",
      "Epoch 3/10\n",
      "84/84 [==============================] - 0s 4ms/step - loss: 0.0106\n",
      "Epoch 4/10\n",
      "84/84 [==============================] - 0s 4ms/step - loss: 0.0092\n",
      "Epoch 5/10\n",
      "84/84 [==============================] - 0s 4ms/step - loss: 0.0078\n",
      "Epoch 6/10\n",
      "84/84 [==============================] - 0s 4ms/step - loss: 0.0075\n",
      "Epoch 7/10\n",
      "84/84 [==============================] - 0s 4ms/step - loss: 0.0067\n",
      "Epoch 8/10\n",
      "84/84 [==============================] - 0s 4ms/step - loss: 0.0069\n",
      "Epoch 9/10\n",
      "84/84 [==============================] - 0s 4ms/step - loss: 0.0066\n",
      "Epoch 10/10\n",
      "84/84 [==============================] - 0s 4ms/step - loss: 0.0060\n"
     ]
    },
    {
     "data": {
      "text/plain": [
       "<keras.callbacks.History at 0x1b22c30eac0>"
      ]
     },
     "execution_count": 44,
     "metadata": {},
     "output_type": "execute_result"
    }
   ],
   "source": [
    "model = Sequential()\n",
    "model.add(SimpleRNN(4,input_shape = (look_back ,1)))\n",
    "model.add(Dense(64,activation= 'relu'))\n",
    "model.add(Dense(1))\n",
    "model.compile(loss='mean_squared_error',optimizer='adam')\n",
    "model.fit(trainX,trainY,epochs= 10,batch_size= 1)"
   ]
  },
  {
   "cell_type": "code",
   "execution_count": 45,
   "id": "8ac63870",
   "metadata": {},
   "outputs": [
    {
     "name": "stdout",
     "output_type": "stream",
     "text": [
      "2/2 [==============================] - 0s 6ms/step\n",
      "3/3 [==============================] - 0s 5ms/step\n"
     ]
    },
    {
     "data": {
      "text/plain": [
       "((36,), (36,))"
      ]
     },
     "execution_count": 45,
     "metadata": {},
     "output_type": "execute_result"
    }
   ],
   "source": [
    "testPredict = model.predict(testX)\n",
    "testPredict = scaler.inverse_transform(testPredict).ravel()\n",
    "\n",
    "trainPredict = model.predict(trainX)\n",
    "trainPredict = scaler.inverse_transform(trainPredict).ravel()\n",
    "\n",
    "testTrue = scaler.inverse_transform([testY]).ravel()\n",
    "trainTrue = scaler.inverse_transform([trainY]).ravel()\n",
    "\n",
    "testPredict.shape,testTrue.shape"
   ]
  },
  {
   "cell_type": "code",
   "execution_count": 46,
   "id": "14d9ddd8",
   "metadata": {},
   "outputs": [],
   "source": [
    "from matplotlib import pyplot as plt"
   ]
  },
  {
   "cell_type": "code",
   "execution_count": 47,
   "id": "00f45f98",
   "metadata": {},
   "outputs": [
    {
     "data": {
      "image/png": "[encoded data removed]",
      "text/plain": [
       "<Figure size 640x480 with 1 Axes>"
      ]
     },
     "metadata": {},
     "output_type": "display_data"
    }
   ],
   "source": [
    "plt.plot(trainTrue, c = 'g')\n",
    "plt.plot(trainPredict, c = 'b')\n",
    "plt.show()"
   ]
  },
  {
   "cell_type": "code",
   "execution_count": 49,
   "id": "40601177",
   "metadata": {},
   "outputs": [
    {
     "data": {
      "image/png": "[encoded data removed]",
      "text/plain": [
       "<Figure size 640x480 with 1 Axes>"
      ]
     },
     "metadata": {},
     "output_type": "display_data"
    }
   ],
   "source": [
    "combinedPredicted = np.concatenate((trainPredict, testPredict))\n",
    "combinedTrue = np.concatenate((trainTrue, testTrue))\n",
    "plt.plot(combinedTrue, c = 'g')\n",
    "plt.plot(combinedPredicted, c = 'b')\n",
    "plt.show()"
   ]
  },
  {
   "cell_type": "code",
   "execution_count": 50,
   "id": "b796f914",
   "metadata": {},
   "outputs": [
    {
     "data": {
      "text/plain": [
       "0.8459869023546812"
      ]
     },
     "execution_count": 50,
     "metadata": {},
     "output_type": "execute_result"
    }
   ],
   "source": [
    "from sklearn.metrics import r2_score\n",
    "r2_score(combinedTrue, combinedPredicted)"
   ]
  },
  {
   "cell_type": "code",
   "execution_count": null,
   "id": "a43c62e1",
   "metadata": {},
   "outputs": [],
   "source": []
  }
 ],
 "metadata": {
  "kernelspec": {
   "display_name": "Python 3 (ipykernel)",
   "language": "python",
   "name": "python3"
  },
  "language_info": {
   "codemirror_mode": {
    "name": "ipython",
    "version": 3
   },
   "file_extension": ".py",
   "mimetype": "text/x-python",
   "name": "python",
   "nbconvert_exporter": "python",
   "pygments_lexer": "ipython3",
   "version": "3.9.13"
  }
 },
 "nbformat": 4,
 "nbformat_minor": 5
}
